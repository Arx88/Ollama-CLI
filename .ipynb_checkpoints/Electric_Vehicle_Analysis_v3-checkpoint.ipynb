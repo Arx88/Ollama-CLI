{
  "cells": [
    {
      "cell_type": "markdown",
      "metadata": {},
      "source": [
        "# Electric Vehicle Population Data Analysis\n",
        "\n",
        "This notebook analyzes the Electric Vehicle Population dataset. It covers:\n",
        "1. Loading the data\n",
        "2. Initial data exploration (structure, types, summary statistics, missing values)\n",
        "3. Data cleaning (example for handling missing values)\n",
        "4. Various visualizations to understand distributions and trends.\n",
        "\n",
        "**Instructions for Colab:**\n",
        "1. Upload the `Electric_Vehicle_Population_Data.csv` file to your Colab session (use the file upload feature in the left sidebar).\n",
        "2. Run the cells sequentially."
      ]
    },
    {
      "cell_type": "markdown",
      "source": [
        "## 1. Import Libraries and Load Data"
      ],
      "metadata": {}
    },
    {
      "cell_type": "code",
      "source": [
        "import pandas as pd\n",
        "import matplotlib.pyplot as plt\n",
        "import seaborn as sns\n",
        "\n",
        "# Load the dataset\n",
        "# Make sure the path to the CSV file is correct.\n",
        "# If you uploaded it to the root of your Colab environment, 'Electric_Vehicle_Population_Data.csv' should work.\n",
        "try:\n",
        "    df = pd.read_csv('Electric_Vehicle_Population_Data.csv')\n",
        "except FileNotFoundError:\n",
        "    print(\"Error: 'Electric_Vehicle_Population_Data.csv' not found. Please upload the file to your Colab session.\")\n",
        "    df = pd.DataFrame() # Create an empty DataFrame to avoid errors in subsequent cells\n",
        "\n",
        "# Set plot style\n",
        "sns.set_style('whitegrid')"
      ],
      "metadata": {},
      "outputs": [],
      "execution_count": null
    },
    {
      "cell_type": "markdown",
      "source": [
        "## 2. Initial Data Exploration\n",
        "Get a first look at the data: structure, data types, summary statistics, and missing values."
      ],
      "metadata": {}
    },
    {
      "cell_type": "code",
      "source": [
        "if not df.empty:\n",
        "    print(\"First 5 rows of the dataset:\")\n",
        "    print(df.head())\n",
        "    print(\"\\nDataset information:\")\n",
        "    df.info()\n",
        "    print(\"\\nSummary statistics for numerical columns:\")\n",
        "    print(df.describe())\n",
        "    print(\"\\nMissing values per column:\")\n",
        "    print(df.isnull().sum())\n",
        "else:\n",
        "    print(\"DataFrame is empty. Please check the file loading step.\")"
      ],
      "metadata": {},
      "outputs": [],
      "execution_count": null
    },
    {
      "cell_type": "markdown",
      "source": [
        "## 3. Data Cleaning (Example)\n",
        "Based on the output of `df.isnull().sum()` from the previous step, you might need to handle missing values. \n",
        "The cell below contains commented-out examples. You should inspect your data and decide on the appropriate strategy (e.g., dropping rows/columns, filling with mean/median/mode, or a constant like 'Unknown')."
      ],
      "metadata": {}
    },
    {
      "cell_type": "code",
      "source": [
        "if not df.empty:\n",
        "    # Example: Drop rows where 'Model Year' or 'Make' is missing, if any.\n",
        "    # df.dropna(subset=['Model Year', 'Make'], inplace=True)\n",
        "\n",
        "    # For numerical columns like 'Electric Range', you might fill with 0 or mean/median\n",
        "    # df['Electric Range'].fillna(0, inplace=True) # Example: fill with 0\n",
        "\n",
        "    # For categorical columns, you might fill with 'Unknown'\n",
        "    # df['SomeCategoricalColumn'].fillna('Unknown', inplace=True)\n",
        "\n",
        "    print(\"Missing values after potential cleaning (if any operations were un-commented and run):\")\n",
        "    print(df.isnull().sum())\n",
        "else:\n",
        "    print(\"DataFrame is empty.\")"
      ],
      "metadata": {},
      "outputs": [],
      "execution_count": null
    },
    {
      "cell_type": "markdown",
      "source": [
        "## 4. Visualizations and Analysis"
      ],
      "metadata": {}
    },
    {
      "cell_type": "markdown",
      "source": [
        "### a. Distribution of Vehicle Makes"
      ],
      "metadata": {}
    },
    {
      "cell_type": "code",
      "source": [
        "if not df.empty and 'Make' in df.columns:\n",
        "    plt.figure(figsize=(12, 8))\n",
        "    make_counts = df['Make'].value_counts().nlargest(15) # Top 15 makes\n",
        "    sns.barplot(x=make_counts.values, y=make_counts.index, palette='viridis', hue=make_counts.index, legend=False)\n",
        "    plt.title('Top 15 Electric Vehicle Makes')\n",
        "    plt.xlabel('Number of Vehicles')\n",
        "    plt.ylabel('Make')\n",
        "    plt.tight_layout()\n",
        "    plt.show()\n",
        "else:\n",
        "    print(\"DataFrame is empty or 'Make' column not found.\")"
      ],
      "metadata": {},
      "outputs": [],
      "execution_count": null
    },
    {
      "cell_type": "markdown",
      "source": [
        "### b. Distribution of Model Years"
      ],
      "metadata": {}
    },
    {
      "cell_type": "code",
      "source": [
        "if not df.empty and 'Model Year' in df.columns:\n",
        "    plt.figure(figsize=(10, 6))\n",
        "    # Ensure 'Model Year' is treated as a discrete variable for histplot if it's numeric\n",
        "    # Or convert to category/string if appropriate for clearer binning\n",
        "    # df_plot = df.copy()\n",
        "    # df_plot['Model Year'] = df_plot['Model Year'].astype(str) # Example if years are like 2018.0\n",
        "    # sns.histplot(data=df_plot, x='Model Year', discrete=True, shrink=0.8)\n",
        "    # Using nunique for bins is good if model years are integers and you want one bin per year.\n",
        "    sns.histplot(df['Model Year'], bins=df['Model Year'].nunique(), kde=False, color='skyblue')\n",
        "    plt.title('Distribution of Model Years')\n",
        "    plt.xlabel('Model Year')\n",
        "    plt.ylabel('Number of Vehicles')\n",
        "    plt.xticks(rotation=45)\n",
        "    plt.tight_layout()\n",
        "    plt.show()\n",
        "else:\n",
        "    print(\"DataFrame is empty or 'Model Year' column not found.\")"
      ],
      "metadata": {},
      "outputs": [],
      "execution_count": null
    },
    {
      "cell_type": "markdown",
      "source": [
        "### c. Distribution of Electric Vehicle Types"
      ],
      "metadata": {}
    },
    {
      "cell_type": "code",
      "source": [
        "if not df.empty and 'Electric Vehicle Type' in df.columns:\n",
        "    plt.figure(figsize=(8, 6))\n",
        "    ev_type_counts = df['Electric Vehicle Type'].value_counts()\n",
        "    sns.barplot(x=ev_type_counts.index, y=ev_type_counts.values, palette='coolwarm', hue=ev_type_counts.index, legend=False)\n",
        "    plt.title('Distribution of Electric Vehicle Types')\n",
        "    plt.xlabel('Electric Vehicle Type')\n",
        "    plt.ylabel('Number of Vehicles')\n",
        "    plt.tight_layout()\n",
        "    plt.show()\n",
        "else:\n",
        "    print(\"DataFrame is empty or 'Electric Vehicle Type' column not found.\")"
      ],
      "metadata": {},
      "outputs": [],
      "execution_count": null
    },
    {
      "cell_type": "markdown",
      "source": [
        "### d. Distribution of Electric Range\n",
        "This plot focuses on Battery Electric Vehicles (BEVs) for a more meaningful range distribution, as PHEVs can have different range characteristics. It falls back to all EV types if BEVs are not specifically identified or present."
      ],
      "metadata": {}
    },
    {
      "cell_type": "code",
      "source": [
        "if not df.empty and 'Electric Range' in df.columns:\n",
        "    plt.figure(figsize=(10, 6))\n",
        "    plot_made = False\n",
        "    if 'Electric Vehicle Type' in df.columns:\n",
        "        bevs = df[df['Electric Vehicle Type'] == 'Battery Electric Vehicle (BEV)']\n",
        "        # Check if BEVs exist and have non-null range data\n",
        "        if not bevs.empty and bevs['Electric Range'].notna().any():\n",
        "            sns.histplot(bevs['Electric Range'].dropna(), bins=30, kde=True, color='coral')\n",
        "            plt.title('Distribution of Electric Range for BEVs')\n",
        "            plot_made = True\n",
        "        # Fallback if no BEVs or BEVs have no range data, but general range data exists\n",
        "        elif df['Electric Range'].notna().any():\n",
        "            print(\"No BEVs found or BEVs have no range data. Plotting range for all EV types.\")\n",
        "            sns.histplot(df['Electric Range'].dropna(), bins=30, kde=True, color='coral')\n",
        "            plt.title('Distribution of Electric Range (All EV Types with available data)')\n",
        "            plot_made = True\n",
        "        else:\n",
        "            print(\"No electric range data available to plot (even after checking all EV types).\")\n",
        "    # Fallback if 'Electric Vehicle Type' column doesn't exist, but general range data exists\n",
        "    elif df['Electric Range'].notna().any(): \n",
        "        sns.histplot(df['Electric Range'].dropna(), bins=30, kde=True, color='coral')\n",
        "        plt.title('Distribution of Electric Range (All EV Types with available data)')\n",
        "        plot_made = True\n",
        "    else:\n",
        "        print(\"No electric range data available to plot.\")\n",
        "\n",
        "    if plot_made:\n",
        "        plt.xlabel('Electric Range (miles)')\n",
        "        plt.ylabel('Frequency')\n",
        "        plt.tight_layout()\n",
        "        plt.show()\n",
        "else:\n",
        "    print(\"DataFrame is empty or 'Electric Range' column not found.\")"
      ],
      "metadata": {},
      "outputs": [],
      "execution_count": null
    },
    {
      "cell_type": "markdown",
      "source": [
        "### e. Clean Alternative Fuel Vehicle (CAFV) Eligibility"
      ],
      "metadata": {}
    },
    {
      "cell_type": "code",
      "source": [
        "if not df.empty and 'Clean Alternative Fuel Vehicle (CAFV) Eligibility' in df.columns:\n",
        "    plt.figure(figsize=(10, 6))\n",
        "    cafv_counts = df['Clean Alternative Fuel Vehicle (CAFV) Eligibility'].value_counts()\n",
        "    sns.barplot(x=cafv_counts.index, y=cafv_counts.values, palette='pastel', hue=cafv_counts.index, legend=False)\n",
        "    plt.title('CAFV Eligibility Status')\n",
        "    plt.xlabel('Eligibility')\n",
        "    plt.ylabel('Number of Vehicles')\n",
        "    plt.xticks(rotation=45, ha='right')\n",
        "    plt.tight_layout()\n",
        "    plt.show()\n",
        "else:\n",
        "    print(\"DataFrame is empty or 'Clean Alternative Fuel Vehicle (CAFV) Eligibility' column not found.\")"
      ],
      "metadata": {},
      "outputs": [],
      "execution_count": null
    },
    {
      "cell_type": "markdown",
      "source": [
        "### f. Top N Cities with Most Electric Vehicles"
      ],
      "metadata": {}
    },
    {
      "cell_type": "code",
      "source": [
        "if not df.empty and 'City' in df.columns:\n",
        "    plt.figure(figsize=(12, 8))\n",
        "    city_counts = df['City'].value_counts().nlargest(15) # Top 15 cities\n",
        "    sns.barplot(x=city_counts.values, y=city_counts.index, palette='mako', hue=city_counts.index, legend=False)\n",
        "    plt.title('Top 15 Cities with Electric Vehicles')\n",
        "    plt.xlabel('Number of Vehicles')\n",
        "    plt.ylabel('City')\n",
        "    plt.tight_layout()\n",
        "    plt.show()\n",
        "else:\n",
        "    print(\"DataFrame is empty or 'City' column not found.\")"
      ],
      "metadata": {},
      "outputs": [],
      "execution_count": null
    },
    {
      "cell_type": "markdown",
      "source": [
        "## 5. Further Analysis Ideas (Commented Out)\n",
        "These are more complex analyses you might explore. They are commented out by default."
      ],
      "metadata": {}
    },
    {
      "cell_type": "markdown",
      "source": [
        "### a. Average Electric Range by Make and Model Year"
      ],
      "metadata": {}
    },
    {
      "cell_type": "code",
      "source": [
        "# if not df.empty and 'Make' in df.columns and 'Model Year' in df.columns and 'Electric Range' in df.columns:\n",
        "#     avg_range_by_make_year = df.groupby(['Make', 'Model Year'])['Electric Range'].mean().reset_index()\n",
        "#     # This can be complex to visualize directly (e.g., heatmap or faceted plots)\n",
        "#     # For simplicity, let's look at top makes' average range over years\n",
        "#     top_makes = df['Make'].value_counts().nlargest(5).index\n",
        "#     plt.figure(figsize=(14, 8))\n",
        "#     for make in top_makes:\n",
        "#         make_data = avg_range_by_make_year[avg_range_by_make_year['Make'] == make]\n",
        "#         if not make_data.empty:\n",
        "#             sns.lineplot(x='Model Year', y='Electric Range', data=make_data, label=make, marker='o')\n",
        "#     plt.title('Average Electric Range by Model Year for Top 5 Makes')\n",
        "#     plt.xlabel('Model Year')\n",
        "#     plt.ylabel('Average Electric Range (miles)')\n",
        "#     plt.legend()\n",
        "#     plt.tight_layout()\n",
        "#     plt.show()\n",
        "# else:\n",
        "#     print(\"DataFrame is empty or required columns ('Make', 'Model Year', 'Electric Range') not found.\")"
      ],
      "metadata": {},
      "outputs": [],
      "execution_count": null
    },
    {
      "cell_type": "markdown",
      "source": [
        "### b. Correlation Heatmap (for numerical features)"
      ],
      "metadata": {}
    },
    {
      "cell_type": "code",
      "source": [
        "# if not df.empty:\n",
        "#     numerical_cols = df.select_dtypes(include=['number']).columns\n",
        "#     if len(numerical_cols) > 1:\n",
        "#         # Drop columns that are identifiers or categorical encoded as numbers if they are not truly numeric for correlation\n",
        "#         # For example, 'VIN (1-10)', 'DOL Vehicle ID', 'Model Year' might not be suitable for direct correlation in some contexts\n",
        "#         # Add other columns like 'Postal Code' to this list if they exist and are numeric but not suitable for correlation\n",
        "#         cols_to_exclude_from_corr = ['VIN (1-10)', 'DOL Vehicle ID', 'Model Year', 'Legislative District', '2020 Census Tract', 'Postal Code'] \n",
        "#         relevant_numerical_cols = [col for col in numerical_cols if col not in cols_to_exclude_from_corr and df[col].nunique() > 1] # Ensure variety\n",
        "#         if len(relevant_numerical_cols) > 1:\n",
        "#             correlation_matrix = df[relevant_numerical_cols].corr()\n",
        "#             plt.figure(figsize=(10, 8))\n",
        "#             sns.heatmap(correlation_matrix, annot=True, cmap='coolwarm', fmt='.2f')\n",
        "#             plt.title('Correlation Heatmap of Numerical Features')\n",
        "#             plt.show()\n",
        "#         else:\n",
        "#             print(\"Not enough relevant numerical columns with variance for a correlation heatmap after exclusions.\")\n",
        "#     else:\n",
        "#         print(\"Not enough numerical columns for a correlation heatmap.\")\n",
        "# else:\n",
        "#     print(\"DataFrame is empty.\")"
      ],
      "metadata": {},
      "outputs": [],
      "execution_count": null
    },
    {
      "cell_type": "markdown",
      "source": [
        "## 6. Interpreting the Results\n",
        "For each plot and analysis, consider:\n",
        "*   **Distributions:** Are they skewed? Are there multiple peaks? What are the common values?\n",
        "*   **Comparisons:** How do different categories (e.g., makes, EV types) compare?\n",
        "*   **Trends:** Are there any trends over time (e.g., model year vs. range)?\n",
        "*   **Relationships:** Do certain variables seem to influence others?\n",
        "*   **Data Quality:** Are there anomalies or missing data points that affect the interpretation?"
      ],
      "metadata": {}
    }
  ],
  "metadata": {
    "kernelspec": {
      "display_name": "Python 3",
      "language": "python",
      "name": "python3"
    },
    "language_info": {
      "codemirror_mode": {
        "name": "ipython",
        "version": 3
      },
      "file_extension": ".py",
      "mimetype": "text/x-python",
      "name": "python",
      "nbconvert_exporter": "python",
      "pygments_lexer": "ipython3",
      "version": "3.10.0"
    }
  },
  "nbformat": 4,
  "nbformat_minor": 5
}